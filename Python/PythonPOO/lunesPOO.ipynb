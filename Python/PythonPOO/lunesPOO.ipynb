{
  "nbformat": 4,
  "nbformat_minor": 0,
  "metadata": {
    "colab": {
      "provenance": [],
      "authorship_tag": "ABX9TyO5ykl9wMp+mCdfq4ygSQix",
      "include_colab_link": true
    },
    "kernelspec": {
      "name": "python3",
      "display_name": "Python 3"
    },
    "language_info": {
      "name": "python"
    }
  },
  "cells": [
    {
      "cell_type": "markdown",
      "metadata": {
        "id": "view-in-github",
        "colab_type": "text"
      },
      "source": [
        "<a href=\"https://colab.research.google.com/github/YaelAram/PythonPOO/blob/master/lunesPOO.ipynb\" target=\"_parent\"><img src=\"https://colab.research.google.com/assets/colab-badge.svg\" alt=\"Open In Colab\"/></a>"
      ]
    },
    {
      "cell_type": "code",
      "execution_count": 1,
      "metadata": {
        "colab": {
          "base_uri": "https://localhost:8080/"
        },
        "id": "3FquPhau4Jve",
        "outputId": "671a4d93-d1fa-405e-ec09-3cc28eac5acf"
      },
      "outputs": [
        {
          "output_type": "stream",
          "name": "stdout",
          "text": [
            "Hola Mundo\n"
          ]
        }
      ],
      "source": [
        "# Esto es un comentario\n",
        "print(\"Hola Mundo\")  # Esto imprime \"Hola Mundo\"\n"
      ]
    },
    {
      "cell_type": "code",
      "source": [
        "# Ejecutar comandos del sistema\n",
        "!ls -a\n"
      ],
      "metadata": {
        "colab": {
          "base_uri": "https://localhost:8080/"
        },
        "id": "diOhOf3Z66oQ",
        "outputId": "96bcf625-54bc-4710-fb28-795850ac9369"
      },
      "execution_count": 2,
      "outputs": [
        {
          "output_type": "stream",
          "name": "stdout",
          "text": [
            ".  ..  .config\tsample_data\n"
          ]
        }
      ]
    },
    {
      "cell_type": "code",
      "source": [
        "# Concatena con un espacio\n",
        "print(\"Hola\", \"Mundo\")\n",
        " \n",
        "# Concatena sin un espacio\n",
        "print(\"Hola\" + \"Mundo\")\n",
        "\n",
        "# Indica el separador de la concatenacion\n",
        "print(\"Hola\", \"Mundo\", sep=\"-\")  # Imprime: Hola-Mundo\n",
        " \n",
        "# Indica el caracter de final de linea\n",
        "print(\"Hola\", end=\"\")\n",
        "print(\"Mundo\")  # Imprime: HolaMundo\n"
      ],
      "metadata": {
        "colab": {
          "base_uri": "https://localhost:8080/"
        },
        "id": "TINuC50N7Alw",
        "outputId": "b893dfb9-8a0a-4e61-a4c8-8c69e23eb2e4"
      },
      "execution_count": 4,
      "outputs": [
        {
          "output_type": "stream",
          "name": "stdout",
          "text": [
            "Hola Mundo\n",
            "HolaMundo\n",
            "Hola-Mundo\n",
            "HolaMundo\n"
          ]
        }
      ]
    },
    {
      "cell_type": "code",
      "source": [
        "nombre = \"Yael\"\n",
        "carrera = \"ICO, la mejor\"\n",
        "# String format con el metodo format\n",
        "print(\"Mi nombre es {} y estudio {} en la FES Aragón\".format(nombre, carrera))\n",
        "# String format permite especificar el indice de los argumentos\n",
        "print(\"Mi nombre es {1} y estudio {0} en la FES Aragón\".format(nombre, carrera))\n",
        "# String format con el prefijo f (format)\n",
        "print(f\"Mi nombre es {nombre} y estudio {carrera} en la FES Aragón\")\n"
      ],
      "metadata": {
        "colab": {
          "base_uri": "https://localhost:8080/"
        },
        "id": "4a6HryUS7pP4",
        "outputId": "3d29208e-ba09-486f-f6ee-cd03a9fd364c"
      },
      "execution_count": 8,
      "outputs": [
        {
          "output_type": "stream",
          "name": "stdout",
          "text": [
            "Mi nombre es Yael y estudio ICO, la mejor en la FES Aragón\n",
            "Mi nombre es Yael y estudio ICO, la mejor en la FES Aragón\n"
          ]
        }
      ]
    },
    {
      "cell_type": "code",
      "source": [
        "# Operadores aritméticos\n",
        "suma = 5 + 3    # 8\n",
        "resta = 5 - 3   # 2\n",
        "producto = 5 * 3  # 15\n",
        "division = 5 / 3  # 1.66667\n",
        "division2 = 5 // 3 # 1\n",
        "modulo = 5 % 3   # 2\n",
        "potencia = 5 ** 3  # 125\n",
        "\n",
        "print(f\"Suma: {suma}\\nResta: {resta}\\nProducto: {producto}\\nDivision: {division}\\nDivision (Entero): {division2}\\nModulo: {modulo}\\nPotencia: {potencia}\")\n"
      ],
      "metadata": {
        "colab": {
          "base_uri": "https://localhost:8080/"
        },
        "id": "rSGUVd4m_GWg",
        "outputId": "7b9a6362-3313-42a1-98be-1501dc30ef20"
      },
      "execution_count": 16,
      "outputs": [
        {
          "output_type": "stream",
          "name": "stdout",
          "text": [
            "Suma: 8\n",
            "Resta: 2\n",
            "Producto: 15\n",
            "Division: 1.6666666666666667\n",
            "Division (Entero): 1\n",
            "Modulo: 2\n",
            "Potencia: 125\n"
          ]
        }
      ]
    },
    {
      "cell_type": "code",
      "source": [
        "# Operadores de comparación\n",
        "igual = 5 == 3  # False\n",
        "diferente = 5 != 3  # True\n",
        "mayor_que = 5 > 3  # True\n",
        "menor_que = 5 < 3  # False\n",
        "mayor_o_igual_que = 5 >= 3  # True\n",
        "menor_o_igual_que = 5 <= 3  # False\n",
        "\n",
        "print(f\"Igual: {igual}\\nDiferente: {diferente}\\nMayor que: {mayor_que}\\nMenor que: {menor_que}\\nMayor igual: {mayor_o_igual_que}\\nMenor igual: {menor_o_igual_que}\")\n"
      ],
      "metadata": {
        "colab": {
          "base_uri": "https://localhost:8080/"
        },
        "id": "brvXPbjV_vh2",
        "outputId": "d9c86140-a424-47b8-af77-6bf7dff87e0e"
      },
      "execution_count": 17,
      "outputs": [
        {
          "output_type": "stream",
          "name": "stdout",
          "text": [
            "Igual: False\n",
            "Diferente: True\n",
            "Mayor que: True\n",
            "Menor que: False\n",
            "Mayor igual: True\n",
            "Menor igual: False\n"
          ]
        }
      ]
    },
    {
      "cell_type": "code",
      "source": [
        "# Operadores lógicos\n",
        "y = True and False  # False\n",
        "o = True or False  # True\n",
        "no = not True  # False\n",
        "\n",
        "print(f\"AND: {y}\\nOR: {o}\\nNOT: {no}\")\n",
        "print(False or (True and False))\n"
      ],
      "metadata": {
        "colab": {
          "base_uri": "https://localhost:8080/"
        },
        "id": "hmjWLlK5AQM6",
        "outputId": "50998157-5bec-402d-b523-6d625b3b29e4"
      },
      "execution_count": 19,
      "outputs": [
        {
          "output_type": "stream",
          "name": "stdout",
          "text": [
            "AND: False\n",
            "OR: True\n",
            "NOT: False\n",
            "False\n"
          ]
        }
      ]
    },
    {
      "cell_type": "code",
      "source": [
        "saludo = \"Hola Mundo\"\n",
        "cita = 'Los alumnos de ICO dicen: \"Hola Mundo\"'\n",
        "parrafo = \"\"\"Esto es un párrafo\n",
        "que abarca varias\n",
        "líneas\"\"\"\n",
        "\n",
        "print(saludo)\n",
        "print(cita)\n",
        "print(parrafo)\n"
      ],
      "metadata": {
        "colab": {
          "base_uri": "https://localhost:8080/"
        },
        "id": "HYm9dg6qA8Q6",
        "outputId": "b90c0bbc-dd70-4f60-e257-457e5d6fc8f2"
      },
      "execution_count": 20,
      "outputs": [
        {
          "output_type": "stream",
          "name": "stdout",
          "text": [
            "Hola Mundo\n",
            "Los alumnos de ICO dicen: \"Hola Mundo\"\n",
            "Esto es un párrafo\n",
            "que abarca varias\n",
            "líneas\n"
          ]
        }
      ]
    },
    {
      "cell_type": "code",
      "source": [
        "def fn_uno():\n",
        "    print(\"Hola\")\n",
        "\n",
        "# Asignacio multiple\n",
        "a, b, c, d = 10, \"Hola\", [2.3, 3.4], fn_uno\n",
        "print(a)\n",
        "print(b)\n",
        "print(c[1])\n",
        "print(d)\n",
        "d()\n"
      ],
      "metadata": {
        "colab": {
          "base_uri": "https://localhost:8080/"
        },
        "id": "92DlpRc8B36e",
        "outputId": "e0983f2e-a241-406a-f980-76c97501fa27"
      },
      "execution_count": 22,
      "outputs": [
        {
          "output_type": "stream",
          "name": "stdout",
          "text": [
            "10\n",
            "Hola\n",
            "3.4\n",
            "<function fn_uno at 0x7f7507cf6320>\n",
            "Hola\n"
          ]
        }
      ]
    },
    {
      "cell_type": "code",
      "source": [
        "# Entrada por teclado\n",
        "nombre = input(\"Por favor ingresa tu nombre: \");\n",
        "print(f\"Hola {nombre}!\")\n"
      ],
      "metadata": {
        "colab": {
          "base_uri": "https://localhost:8080/"
        },
        "id": "X8rgV6T5DN-j",
        "outputId": "e3bcc730-8dbc-47b9-f025-e36c7c75e132"
      },
      "execution_count": 25,
      "outputs": [
        {
          "output_type": "stream",
          "name": "stdout",
          "text": [
            "Por favor ingresa tu nombre: Yael\n",
            "Hola Yael!\n"
          ]
        }
      ]
    },
    {
      "cell_type": "code",
      "source": [
        "# String a numero\n",
        "edad = int(input(\"Ingresa tu edad: \"))\n",
        "altura = float(input(\"Ingresa tu altura: \"))\n",
        "print(f\"{nombre} tiene {edad} {'años' if edad > 1 else 'año'} y mide {altura} metros\")\n"
      ],
      "metadata": {
        "colab": {
          "base_uri": "https://localhost:8080/"
        },
        "id": "8wndaN-4Dc3c",
        "outputId": "92f19cf2-536a-46c5-b27c-2a7dc24c7fae"
      },
      "execution_count": 27,
      "outputs": [
        {
          "output_type": "stream",
          "name": "stdout",
          "text": [
            "Ingresa tu edad: 23\n",
            "Ingresa tu altura: 1.75\n",
            "Yael tiene 23 años y mide 1.75 metros\n"
          ]
        }
      ]
    },
    {
      "cell_type": "code",
      "source": [
        "# Tipos de datos\n",
        "mensaje = \"Hola Mundo\"  # String\n",
        "edad = 20               # Integer\n",
        "pi = 3.14159            # Float\n",
        "es_mayor = True         # Boolean\n",
        "imaginario = 3 + 4j     # Imaginario\n",
        "\n",
        "print(mensaje)\n",
        "print(edad)\n",
        "print(pi)\n",
        "print(es_mayor)\n",
        "print(imaginario)\n"
      ],
      "metadata": {
        "colab": {
          "base_uri": "https://localhost:8080/"
        },
        "id": "CdJaKgbSEE5g",
        "outputId": "9f2bf70a-df51-456a-b5fe-32dffb7c33fc"
      },
      "execution_count": 28,
      "outputs": [
        {
          "output_type": "stream",
          "name": "stdout",
          "text": [
            "Hola Mundo\n",
            "20\n",
            "3.14159\n",
            "True\n",
            "(3+4j)\n"
          ]
        }
      ]
    },
    {
      "cell_type": "code",
      "source": [
        "# Listas\n",
        "frutas = [\"Limon\", \"Fresa\", \"Manzana\", \"Naranja\", \"Uva\", \"Toronja\"]\n",
        "lista = [\"Limon\", 1, 3.1416, False, [1, 2, 3]]\n",
        "print(frutas)\n",
        "print(lista)\n",
        "# Primer elemento\n",
        "print(frutas[0])\n",
        "print(lista[0])\n",
        "# Ultimo elemento\n",
        "print(frutas[3])\n",
        "print(frutas[-1])\n",
        "print(lista[-1][-1])\n"
      ],
      "metadata": {
        "colab": {
          "base_uri": "https://localhost:8080/"
        },
        "id": "XKKKWs6dEzsG",
        "outputId": "db5700f7-3c60-45bc-c8bb-6056fc4110d7"
      },
      "execution_count": 33,
      "outputs": [
        {
          "output_type": "stream",
          "name": "stdout",
          "text": [
            "['Limon', 'Fresa', 'Manzana', 'Naranja', 'Uva', 'Toronja']\n",
            "['Limon', 1, 3.1416, False, [1, 2, 3]]\n",
            "Limon\n",
            "Limon\n",
            "Naranja\n",
            "Toronja\n",
            "3\n"
          ]
        }
      ]
    },
    {
      "cell_type": "code",
      "source": [
        "# Slicing [inicio, final, paso]\n",
        "# inicio default: 0, final default: tamaño del elemento, paso: default: 1\n",
        "lista = [1, 2, 3, 4, 5, 6, \"A\", \"B\", \"C\", \"D\", \"E\"]\n",
        "print(lista[2:6])\n",
        "print(lista[6:9])\n"
      ],
      "metadata": {
        "colab": {
          "base_uri": "https://localhost:8080/"
        },
        "id": "ZE-knkPcGTxT",
        "outputId": "14e8c35f-1026-4aa6-d0f0-db7c5a920a52"
      },
      "execution_count": 41,
      "outputs": [
        {
          "output_type": "stream",
          "name": "stdout",
          "text": [
            "[3, 4, 5, 6]\n",
            "['A', 'B', 'C']\n"
          ]
        }
      ]
    },
    {
      "cell_type": "code",
      "source": [
        "# Tuplas, es una coleccion inmutable\n",
        "numeros = (1, 2, 3, 4, 5, 6)\n",
        "print(numeros)\n",
        "print(numeros[1])\n",
        "print(numeros[-1])\n",
        "print(numeros[2:4])\n",
        "print(numeros[::2])\n"
      ],
      "metadata": {
        "colab": {
          "base_uri": "https://localhost:8080/"
        },
        "id": "90YmOkBZIvHX",
        "outputId": "0a03c85f-a002-4355-c2cb-e0cd92357c54"
      },
      "execution_count": 44,
      "outputs": [
        {
          "output_type": "stream",
          "name": "stdout",
          "text": [
            "(1, 2, 3, 4, 5, 6)\n",
            "2\n",
            "6\n",
            "(3, 4)\n",
            "(1, 3, 5)\n"
          ]
        }
      ]
    },
    {
      "cell_type": "code",
      "source": [
        "# Diccionarios, es una coleccion clave - valor mutable, similar a los JSON\n",
        "# Clave: string, Valor: any\n",
        "alumno = {\n",
        "    \"id\": 23564978,\n",
        "    \"nombre\": \"Yael\",\n",
        "    \"materias\": [\"Temas Especiales II\", \"Compiladores\", \"Sistemas Operativos\"] \n",
        "}\n",
        "print(alumno)\n",
        "print(alumno[\"materias\"])\n",
        "print(alumno['nombre'][1:])\n"
      ],
      "metadata": {
        "colab": {
          "base_uri": "https://localhost:8080/"
        },
        "id": "V8oP2pmXKKLD",
        "outputId": "ef99f35d-f3bc-426b-8444-ec50392fc181"
      },
      "execution_count": 49,
      "outputs": [
        {
          "output_type": "stream",
          "name": "stdout",
          "text": [
            "{'id': 23564978, 'nombre': 'Yael', 'materias': ['Temas Especiales II', 'Compiladores', 'Sistemas Operativos']}\n",
            "['Temas Especiales II', 'Compiladores', 'Sistemas Operativos']\n",
            "ael\n"
          ]
        }
      ]
    }
  ]
}