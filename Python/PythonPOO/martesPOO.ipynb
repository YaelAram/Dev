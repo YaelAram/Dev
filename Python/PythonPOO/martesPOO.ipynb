{
  "nbformat": 4,
  "nbformat_minor": 0,
  "metadata": {
    "colab": {
      "provenance": [],
      "authorship_tag": "ABX9TyOUgbONv61a8Z/xYwHh+4Ud",
      "include_colab_link": true
    },
    "kernelspec": {
      "name": "python3",
      "display_name": "Python 3"
    },
    "language_info": {
      "name": "python"
    }
  },
  "cells": [
    {
      "cell_type": "markdown",
      "metadata": {
        "id": "view-in-github",
        "colab_type": "text"
      },
      "source": [
        "<a href=\"https://colab.research.google.com/github/YaelAram/PythonPOO/blob/master/martesPOO.ipynb\" target=\"_parent\"><img src=\"https://colab.research.google.com/assets/colab-badge.svg\" alt=\"Open In Colab\"/></a>"
      ]
    },
    {
      "cell_type": "code",
      "execution_count": null,
      "metadata": {
        "colab": {
          "base_uri": "https://localhost:8080/"
        },
        "id": "WVxxN31_8bSh",
        "outputId": "343787e8-17de-474d-86ea-313260075490"
      },
      "outputs": [
        {
          "output_type": "stream",
          "name": "stdout",
          "text": [
            "{'id': 23564978, 'nombre': 'Yael', 'materias': ['Temas Especiales II', 'Compiladores', 'Sistemas Operativos']}\n",
            "['Temas Especiales II', 'Compiladores', 'Sistemas Operativos']\n",
            "ael\n"
          ]
        }
      ],
      "source": [
        "# Diccionarios, es una coleccion clave - valor mutable, similar a los JSON\n",
        "# Clave: string, Valor: any\n",
        "alumno = {\n",
        "    \"id\": 23564978,\n",
        "    \"nombre\": \"Yael\",\n",
        "    \"materias\": [\"Temas Especiales II\", \"Compiladores\", \"Sistemas Operativos\"]\n",
        "}\n",
        "print(alumno)\n",
        "print(alumno[\"materias\"])\n",
        "print(alumno['nombre'][1:])\n"
      ]
    },
    {
      "cell_type": "code",
      "source": [
        "# IF\n",
        "edad = 50\n",
        "if 0 <= edad < 18:\n",
        "    print(\"Menor de edad.\")\n",
        "elif 18 <= edad <= 110:\n",
        "    print(\"Mayor de edad\")\n",
        "else:\n",
        "    print(\"Error\")\n"
      ],
      "metadata": {
        "colab": {
          "base_uri": "https://localhost:8080/"
        },
        "id": "dNEqoONR_CGf",
        "outputId": "10629418-fec6-41d4-ef94-bc3904c07eaf"
      },
      "execution_count": null,
      "outputs": [
        {
          "output_type": "stream",
          "name": "stdout",
          "text": [
            "Mayor de edad\n"
          ]
        }
      ]
    },
    {
      "cell_type": "code",
      "source": [
        "# IF reducido\n",
        "edad = int(input(\"Ingresa tu edad: \"))\n",
        "mensaje = \"Menor de edad\" if 0 <= edad < 18 else \"Mayor de edad\" if 18 <= edad <= 100 else \"Error\";\n",
        "print(mensaje)\n"
      ],
      "metadata": {
        "colab": {
          "base_uri": "https://localhost:8080/"
        },
        "id": "RxsH9BF__oGT",
        "outputId": "53e9a8cb-b523-4b0d-9940-eb8d4cc067fe"
      },
      "execution_count": null,
      "outputs": [
        {
          "output_type": "stream",
          "name": "stdout",
          "text": [
            "Ingresa tu edad: 18\n",
            "Mayor de edad\n"
          ]
        }
      ]
    },
    {
      "cell_type": "code",
      "source": [
        "# For\n",
        "# inicio | fin (excluido) | paso\n",
        "for i in range(1, 10, 1):\n",
        "    print(i, end=\" \")\n",
        "\n",
        "print()\n",
        "\n",
        "for i in range(10):\n",
        "    print(i, end=\" \")\n"
      ],
      "metadata": {
        "id": "j6AEPDtzBKUY",
        "colab": {
          "base_uri": "https://localhost:8080/"
        },
        "outputId": "e61c88cd-f3b3-4b11-9427-28cfe10f757f"
      },
      "execution_count": null,
      "outputs": [
        {
          "output_type": "stream",
          "name": "stdout",
          "text": [
            "1 2 3 4 5 6 7 8 9 \n",
            "0 1 2 3 4 5 6 7 8 9 "
          ]
        }
      ]
    },
    {
      "cell_type": "code",
      "source": [
        "# Iterando una lista\n",
        "frutas = [\"Durazno\", \"Manzana\", \"Uva\", \"Naranja\"]\n",
        "\n",
        "for fruta in frutas:\n",
        "    print(fruta)\n",
        "\n",
        "for index, fruta in enumerate(frutas):\n",
        "    print(f\"{index}. {fruta}\")\n",
        "\n",
        "for fruta in frutas:\n",
        "    if fruta == \"Uva\":\n",
        "        break\n",
        "    print(fruta)\n",
        "\n",
        "for fruta in frutas:\n",
        "    if fruta == \"Uva\":\n",
        "        continue\n",
        "    print(fruta)\n"
      ],
      "metadata": {
        "colab": {
          "base_uri": "https://localhost:8080/"
        },
        "id": "x3wam1N0CS4q",
        "outputId": "5f82adda-aabb-4cb6-acc3-37023522910d"
      },
      "execution_count": null,
      "outputs": [
        {
          "output_type": "stream",
          "name": "stdout",
          "text": [
            "Durazno\n",
            "Manzana\n",
            "Uva\n",
            "Naranja\n",
            "0. Durazno\n",
            "1. Manzana\n",
            "2. Uva\n",
            "3. Naranja\n",
            "Durazno\n",
            "Manzana\n",
            "Durazno\n",
            "Manzana\n",
            "Naranja\n"
          ]
        }
      ]
    },
    {
      "cell_type": "code",
      "source": [
        "# While\n",
        "tam = 0\n",
        "\n",
        "while(tam < 10):\n",
        "    print(tam)\n",
        "    tam += 1\n"
      ],
      "metadata": {
        "colab": {
          "base_uri": "https://localhost:8080/"
        },
        "id": "TKx8ITGxDfA6",
        "outputId": "b53d03e7-7c21-4561-8360-7f731d9e3de1"
      },
      "execution_count": null,
      "outputs": [
        {
          "output_type": "stream",
          "name": "stdout",
          "text": [
            "0\n",
            "1\n",
            "2\n",
            "3\n",
            "4\n",
            "5\n",
            "6\n",
            "7\n",
            "8\n",
            "9\n"
          ]
        }
      ]
    }
  ]
}